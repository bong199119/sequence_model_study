{
 "cells": [
  {
   "cell_type": "code",
   "execution_count": 1,
   "metadata": {
    "colab": {
     "base_uri": "https://localhost:8080/"
    },
    "id": "fG4enujkDAnY",
    "outputId": "d7475794-0757-426d-ca91-1fe36cf2efa8"
   },
   "outputs": [
    {
     "name": "stdout",
     "output_type": "stream",
     "text": [
      "Collecting yfinance\n",
      "  Downloading yfinance-0.2.11-py2.py3-none-any.whl (59 kB)\n",
      "     ---------------------------------------- 59.2/59.2 kB ? eta 0:00:00\n",
      "  Downloading yfinance-0.2.10-py2.py3-none-any.whl (59 kB)\n",
      "     ---------------------------------------- 59.1/59.1 kB ? eta 0:00:00\n",
      "  Downloading yfinance-0.2.9-py2.py3-none-any.whl (55 kB)\n",
      "     ---------------------------------------- 55.9/55.9 kB ? eta 0:00:00\n",
      "  Downloading yfinance-0.2.7-py2.py3-none-any.whl (55 kB)\n",
      "     ---------------------------------------- 55.6/55.6 kB ? eta 0:00:00\n",
      "  Downloading yfinance-0.2.6-py2.py3-none-any.whl (55 kB)\n",
      "     ---------------------------------------- 55.4/55.4 kB ? eta 0:00:00\n",
      "  Downloading yfinance-0.2.5-py2.py3-none-any.whl (55 kB)\n",
      "     ---------------------------------------- 55.2/55.2 kB ? eta 0:00:00\n",
      "  Downloading yfinance-0.2.4-py2.py3-none-any.whl (51 kB)\n",
      "     ---------------------------------------- 51.4/51.4 kB ? eta 0:00:00\n",
      "  Downloading yfinance-0.2.3-py2.py3-none-any.whl (50 kB)\n",
      "     ---------------------------------------- 50.4/50.4 kB ? eta 0:00:00\n",
      "  Downloading yfinance-0.2.2-py2.py3-none-any.whl (50 kB)\n",
      "     ---------------------------------------- 50.0/50.0 kB ? eta 0:00:00\n",
      "  Downloading yfinance-0.2.1-py2.py3-none-any.whl (50 kB)\n",
      "     ---------------------------------------- 50.0/50.0 kB ? eta 0:00:00\n",
      "  Downloading yfinance-0.1.96-py2.py3-none-any.whl (31 kB)\n",
      "  Downloading yfinance-0.1.95-py2.py3-none-any.whl (31 kB)\n",
      "  Downloading yfinance-0.1.94-py2.py3-none-any.whl (31 kB)\n",
      "  Downloading yfinance-0.1.93-py2.py3-none-any.whl (31 kB)\n",
      "  Downloading yfinance-0.1.92-py2.py3-none-any.whl (31 kB)\n",
      "  Downloading yfinance-0.1.91-py2.py3-none-any.whl (31 kB)\n",
      "  Downloading yfinance-0.1.90-py2.py3-none-any.whl (29 kB)\n",
      "  Downloading yfinance-0.1.89-py2.py3-none-any.whl (29 kB)\n",
      "Collecting appdirs>=1.4.4\n",
      "  Downloading appdirs-1.4.4-py2.py3-none-any.whl (9.6 kB)\n",
      "Collecting yfinance\n",
      "  Downloading yfinance-0.1.87-py2.py3-none-any.whl (29 kB)\n",
      "Requirement already satisfied: pandas>=0.24.0 in c:\\users\\sbskh\\anaconda3\\envs\\sequence_model\\lib\\site-packages (from yfinance) (1.1.5)\n",
      "Requirement already satisfied: numpy>=1.15 in c:\\users\\sbskh\\anaconda3\\envs\\sequence_model\\lib\\site-packages (from yfinance) (1.21.6)\n",
      "Collecting requests>=2.26\n",
      "  Downloading requests-2.28.2-py3-none-any.whl (62 kB)\n",
      "     ---------------------------------------- 62.8/62.8 kB ? eta 0:00:00\n",
      "Collecting lxml>=4.5.1\n",
      "  Downloading lxml-4.9.2-cp37-cp37m-win_amd64.whl (3.8 MB)\n",
      "     ---------------------------------------- 3.8/3.8 MB 20.5 MB/s eta 0:00:00\n",
      "Collecting multitasking>=0.0.7\n",
      "  Downloading multitasking-0.0.11-py3-none-any.whl (8.5 kB)\n",
      "Requirement already satisfied: python-dateutil>=2.7.3 in c:\\users\\sbskh\\anaconda3\\envs\\sequence_model\\lib\\site-packages (from pandas>=0.24.0->yfinance) (2.8.2)\n",
      "Requirement already satisfied: pytz>=2017.2 in c:\\users\\sbskh\\anaconda3\\envs\\sequence_model\\lib\\site-packages (from pandas>=0.24.0->yfinance) (2022.7)\n",
      "Requirement already satisfied: idna<4,>=2.5 in c:\\users\\sbskh\\anaconda3\\envs\\sequence_model\\lib\\site-packages (from requests>=2.26->yfinance) (3.4)\n",
      "Collecting urllib3<1.27,>=1.21.1\n",
      "  Downloading urllib3-1.26.14-py2.py3-none-any.whl (140 kB)\n",
      "     ---------------------------------------- 140.6/140.6 kB ? eta 0:00:00\n",
      "Requirement already satisfied: certifi>=2017.4.17 in c:\\users\\sbskh\\anaconda3\\envs\\sequence_model\\lib\\site-packages (from requests>=2.26->yfinance) (2022.12.7)\n",
      "Collecting charset-normalizer<4,>=2\n",
      "  Downloading charset_normalizer-3.0.1-cp37-cp37m-win_amd64.whl (94 kB)\n",
      "     ---------------------------------------- 94.0/94.0 kB ? eta 0:00:00\n",
      "Requirement already satisfied: six>=1.5 in c:\\users\\sbskh\\anaconda3\\envs\\sequence_model\\lib\\site-packages (from python-dateutil>=2.7.3->pandas>=0.24.0->yfinance) (1.16.0)\n",
      "Installing collected packages: multitasking, charset-normalizer, appdirs, urllib3, lxml, requests, yfinance\n",
      "Successfully installed appdirs-1.4.4 charset-normalizer-3.0.1 lxml-4.9.2 multitasking-0.0.11 requests-2.28.2 urllib3-1.26.14 yfinance-0.1.87\n"
     ]
    }
   ],
   "source": [
    "!pip install yfinance"
   ]
  },
  {
   "cell_type": "code",
   "execution_count": 2,
   "metadata": {
    "colab": {
     "base_uri": "https://localhost:8080/"
    },
    "id": "PggvkTWiDJ4u",
    "outputId": "3e9fd791-2b52-4131-c2da-8072158e350b"
   },
   "outputs": [
    {
     "name": "stdout",
     "output_type": "stream",
     "text": [
      "Collecting yahoofinancials\n",
      "  Downloading yahoofinancials-1.13.tar.gz (41 kB)\n",
      "     ---------------------------------------- 41.6/41.6 kB ? eta 0:00:00\n",
      "  Preparing metadata (setup.py): started\n",
      "  Preparing metadata (setup.py): finished with status 'done'\n",
      "Requirement already satisfied: pytz in c:\\users\\sbskh\\anaconda3\\envs\\sequence_model\\lib\\site-packages (from yahoofinancials) (2022.7)\n",
      "Requirement already satisfied: requests>=2.26 in c:\\users\\sbskh\\anaconda3\\envs\\sequence_model\\lib\\site-packages (from yahoofinancials) (2.28.2)\n",
      "Requirement already satisfied: urllib3<1.27,>=1.21.1 in c:\\users\\sbskh\\anaconda3\\envs\\sequence_model\\lib\\site-packages (from requests>=2.26->yahoofinancials) (1.26.14)\n",
      "Requirement already satisfied: idna<4,>=2.5 in c:\\users\\sbskh\\anaconda3\\envs\\sequence_model\\lib\\site-packages (from requests>=2.26->yahoofinancials) (3.4)\n",
      "Requirement already satisfied: charset-normalizer<4,>=2 in c:\\users\\sbskh\\anaconda3\\envs\\sequence_model\\lib\\site-packages (from requests>=2.26->yahoofinancials) (3.0.1)\n",
      "Requirement already satisfied: certifi>=2017.4.17 in c:\\users\\sbskh\\anaconda3\\envs\\sequence_model\\lib\\site-packages (from requests>=2.26->yahoofinancials) (2022.12.7)\n",
      "Building wheels for collected packages: yahoofinancials\n",
      "  Building wheel for yahoofinancials (setup.py): started\n",
      "  Building wheel for yahoofinancials (setup.py): finished with status 'done'\n",
      "  Created wheel for yahoofinancials: filename=yahoofinancials-1.13-py3-none-any.whl size=28667 sha256=a6e56f8d51a6c377ea5083c437f92f3c6d1a286e83706e1488c2baabace32d8b\n",
      "  Stored in directory: c:\\users\\sbskh\\appdata\\local\\pip\\cache\\wheels\\c9\\87\\38\\e5a8b90d799352e24843e8f656ced23b6bb5a2620563013aea\n",
      "Successfully built yahoofinancials\n",
      "Installing collected packages: yahoofinancials\n",
      "Successfully installed yahoofinancials-1.13\n"
     ]
    }
   ],
   "source": [
    "!pip install yahoofinancials"
   ]
  },
  {
   "cell_type": "code",
   "execution_count": null,
   "metadata": {
    "id": "QJ0qnvUYDY6v"
   },
   "outputs": [],
   "source": [
    "import pandas as pd\n",
    "import yfinance as yf\n",
    "from yahoofinancials import YahooFinancials\n",
    "import numpy as np\n",
    "from keras.models import Sequential\n",
    "from keras.layers import Dense, SimpleRNN, GRU\n",
    "from keras.optimizers import SGD"
   ]
  },
  {
   "cell_type": "code",
   "execution_count": 4,
   "metadata": {
    "id": "ovK_1rJiCVOJ"
   },
   "outputs": [],
   "source": [
    "AMZN = yf.download('AMZN', \n",
    "                      start='2014-01-01', \n",
    "                      end='2019-12-31', \n",
    "                      progress=False)\n",
    "all_data = AMZN[['Adj Close','Open', 'High', 'Low', 'Close', 'Volume']].round(2)"
   ]
  },
  {
   "cell_type": "code",
   "execution_count": 6,
   "metadata": {
    "colab": {
     "base_uri": "https://localhost:8080/",
     "height": 237
    },
    "id": "tgUPaHO-GRLq",
    "outputId": "0783605a-5eb4-449d-ee55-67b9a9ad3153"
   },
   "outputs": [
    {
     "data": {
      "text/html": [
       "\n",
       "  <div id=\"df-15186204-8a2b-4ba3-af47-e11df58a3c8b\">\n",
       "    <div class=\"colab-df-container\">\n",
       "      <div>\n",
       "<style scoped>\n",
       "    .dataframe tbody tr th:only-of-type {\n",
       "        vertical-align: middle;\n",
       "    }\n",
       "\n",
       "    .dataframe tbody tr th {\n",
       "        vertical-align: top;\n",
       "    }\n",
       "\n",
       "    .dataframe thead th {\n",
       "        text-align: right;\n",
       "    }\n",
       "</style>\n",
       "<table border=\"1\" class=\"dataframe\">\n",
       "  <thead>\n",
       "    <tr style=\"text-align: right;\">\n",
       "      <th></th>\n",
       "      <th>Adj Close</th>\n",
       "      <th>Open</th>\n",
       "      <th>High</th>\n",
       "      <th>Low</th>\n",
       "      <th>Close</th>\n",
       "      <th>Volume</th>\n",
       "    </tr>\n",
       "    <tr>\n",
       "      <th>Date</th>\n",
       "      <th></th>\n",
       "      <th></th>\n",
       "      <th></th>\n",
       "      <th></th>\n",
       "      <th></th>\n",
       "      <th></th>\n",
       "    </tr>\n",
       "  </thead>\n",
       "  <tbody>\n",
       "    <tr>\n",
       "      <th>2014-01-02</th>\n",
       "      <td>19.90</td>\n",
       "      <td>19.94</td>\n",
       "      <td>19.97</td>\n",
       "      <td>19.70</td>\n",
       "      <td>19.90</td>\n",
       "      <td>42756000</td>\n",
       "    </tr>\n",
       "    <tr>\n",
       "      <th>2014-01-03</th>\n",
       "      <td>19.82</td>\n",
       "      <td>19.91</td>\n",
       "      <td>20.14</td>\n",
       "      <td>19.81</td>\n",
       "      <td>19.82</td>\n",
       "      <td>44204000</td>\n",
       "    </tr>\n",
       "    <tr>\n",
       "      <th>2014-01-06</th>\n",
       "      <td>19.68</td>\n",
       "      <td>19.79</td>\n",
       "      <td>19.85</td>\n",
       "      <td>19.42</td>\n",
       "      <td>19.68</td>\n",
       "      <td>63412000</td>\n",
       "    </tr>\n",
       "    <tr>\n",
       "      <th>2014-01-07</th>\n",
       "      <td>19.90</td>\n",
       "      <td>19.75</td>\n",
       "      <td>19.92</td>\n",
       "      <td>19.71</td>\n",
       "      <td>19.90</td>\n",
       "      <td>38320000</td>\n",
       "    </tr>\n",
       "    <tr>\n",
       "      <th>2014-01-08</th>\n",
       "      <td>20.10</td>\n",
       "      <td>19.92</td>\n",
       "      <td>20.15</td>\n",
       "      <td>19.80</td>\n",
       "      <td>20.10</td>\n",
       "      <td>46330000</td>\n",
       "    </tr>\n",
       "  </tbody>\n",
       "</table>\n",
       "</div>\n",
       "      <button class=\"colab-df-convert\" onclick=\"convertToInteractive('df-15186204-8a2b-4ba3-af47-e11df58a3c8b')\"\n",
       "              title=\"Convert this dataframe to an interactive table.\"\n",
       "              style=\"display:none;\">\n",
       "        \n",
       "  <svg xmlns=\"http://www.w3.org/2000/svg\" height=\"24px\"viewBox=\"0 0 24 24\"\n",
       "       width=\"24px\">\n",
       "    <path d=\"M0 0h24v24H0V0z\" fill=\"none\"/>\n",
       "    <path d=\"M18.56 5.44l.94 2.06.94-2.06 2.06-.94-2.06-.94-.94-2.06-.94 2.06-2.06.94zm-11 1L8.5 8.5l.94-2.06 2.06-.94-2.06-.94L8.5 2.5l-.94 2.06-2.06.94zm10 10l.94 2.06.94-2.06 2.06-.94-2.06-.94-.94-2.06-.94 2.06-2.06.94z\"/><path d=\"M17.41 7.96l-1.37-1.37c-.4-.4-.92-.59-1.43-.59-.52 0-1.04.2-1.43.59L10.3 9.45l-7.72 7.72c-.78.78-.78 2.05 0 2.83L4 21.41c.39.39.9.59 1.41.59.51 0 1.02-.2 1.41-.59l7.78-7.78 2.81-2.81c.8-.78.8-2.07 0-2.86zM5.41 20L4 18.59l7.72-7.72 1.47 1.35L5.41 20z\"/>\n",
       "  </svg>\n",
       "      </button>\n",
       "      \n",
       "  <style>\n",
       "    .colab-df-container {\n",
       "      display:flex;\n",
       "      flex-wrap:wrap;\n",
       "      gap: 12px;\n",
       "    }\n",
       "\n",
       "    .colab-df-convert {\n",
       "      background-color: #E8F0FE;\n",
       "      border: none;\n",
       "      border-radius: 50%;\n",
       "      cursor: pointer;\n",
       "      display: none;\n",
       "      fill: #1967D2;\n",
       "      height: 32px;\n",
       "      padding: 0 0 0 0;\n",
       "      width: 32px;\n",
       "    }\n",
       "\n",
       "    .colab-df-convert:hover {\n",
       "      background-color: #E2EBFA;\n",
       "      box-shadow: 0px 1px 2px rgba(60, 64, 67, 0.3), 0px 1px 3px 1px rgba(60, 64, 67, 0.15);\n",
       "      fill: #174EA6;\n",
       "    }\n",
       "\n",
       "    [theme=dark] .colab-df-convert {\n",
       "      background-color: #3B4455;\n",
       "      fill: #D2E3FC;\n",
       "    }\n",
       "\n",
       "    [theme=dark] .colab-df-convert:hover {\n",
       "      background-color: #434B5C;\n",
       "      box-shadow: 0px 1px 3px 1px rgba(0, 0, 0, 0.15);\n",
       "      filter: drop-shadow(0px 1px 2px rgba(0, 0, 0, 0.3));\n",
       "      fill: #FFFFFF;\n",
       "    }\n",
       "  </style>\n",
       "\n",
       "      <script>\n",
       "        const buttonEl =\n",
       "          document.querySelector('#df-15186204-8a2b-4ba3-af47-e11df58a3c8b button.colab-df-convert');\n",
       "        buttonEl.style.display =\n",
       "          google.colab.kernel.accessAllowed ? 'block' : 'none';\n",
       "\n",
       "        async function convertToInteractive(key) {\n",
       "          const element = document.querySelector('#df-15186204-8a2b-4ba3-af47-e11df58a3c8b');\n",
       "          const dataTable =\n",
       "            await google.colab.kernel.invokeFunction('convertToInteractive',\n",
       "                                                     [key], {});\n",
       "          if (!dataTable) return;\n",
       "\n",
       "          const docLinkHtml = 'Like what you see? Visit the ' +\n",
       "            '<a target=\"_blank\" href=https://colab.research.google.com/notebooks/data_table.ipynb>data table notebook</a>'\n",
       "            + ' to learn more about interactive tables.';\n",
       "          element.innerHTML = '';\n",
       "          dataTable['output_type'] = 'display_data';\n",
       "          await google.colab.output.renderOutput(dataTable, element);\n",
       "          const docLink = document.createElement('div');\n",
       "          docLink.innerHTML = docLinkHtml;\n",
       "          element.appendChild(docLink);\n",
       "        }\n",
       "      </script>\n",
       "    </div>\n",
       "  </div>\n",
       "  "
      ],
      "text/plain": [
       "            Adj Close   Open   High    Low  Close    Volume\n",
       "Date                                                       \n",
       "2014-01-02      19.90  19.94  19.97  19.70  19.90  42756000\n",
       "2014-01-03      19.82  19.91  20.14  19.81  19.82  44204000\n",
       "2014-01-06      19.68  19.79  19.85  19.42  19.68  63412000\n",
       "2014-01-07      19.90  19.75  19.92  19.71  19.90  38320000\n",
       "2014-01-08      20.10  19.92  20.15  19.80  20.10  46330000"
      ]
     },
     "execution_count": 6,
     "metadata": {},
     "output_type": "execute_result"
    }
   ],
   "source": [
    "all_data.head()"
   ]
  },
  {
   "cell_type": "code",
   "execution_count": 7,
   "metadata": {
    "id": "A8YeH9IUCy9M"
   },
   "outputs": [],
   "source": [
    "def ts_train_test(all_data,time_steps,for_periods):\n",
    "    # create training and test set\n",
    "    ts_train = all_data[:'2018'].iloc[:,0:1].values\n",
    "    ts_test  = all_data['2019':].iloc[:,0:1].values\n",
    "    ts_train_len = len(ts_train)\n",
    "    ts_test_len = len(ts_test)\n",
    "\n",
    "    # create training data of s samples and t time steps\n",
    "    X_train = []\n",
    "    y_train = []\n",
    "    y_train_stacked = []\n",
    "    for i in range(time_steps,ts_train_len-1): \n",
    "        X_train.append(ts_train[i-time_steps:i,0])\n",
    "        y_train.append(ts_train[i:i+for_periods,0])\n",
    "    X_train, y_train = np.array(X_train), np.array(y_train)\n",
    "\n",
    "    # Reshaping X_train for efficient modelling\n",
    "    X_train = np.reshape(X_train, (X_train.shape[0],X_train.shape[1],1))\n",
    "\n",
    "    inputs = pd.concat((all_data[\"Adj Close\"][:'2018'], all_data[\"Adj Close\"]['2019':]),axis=0).values\n",
    "    inputs = inputs[len(inputs)-len(ts_test) - time_steps:]\n",
    "    inputs = inputs.reshape(-1,1)\n",
    "\n",
    "    # Preparing X_test\n",
    "    X_test = []\n",
    "    for i in range(time_steps,ts_test_len+time_steps-for_periods):\n",
    "        X_test.append(inputs[i-time_steps:i,0])\n",
    "        \n",
    "    X_test = np.array(X_test)\n",
    "    X_test = np.reshape(X_test, (X_test.shape[0],X_test.shape[1],1))\n",
    "\n",
    "    return X_train, y_train , X_test"
   ]
  },
  {
   "cell_type": "code",
   "execution_count": 8,
   "metadata": {
    "colab": {
     "base_uri": "https://localhost:8080/"
    },
    "id": "JQgqcgc1DW4F",
    "outputId": "ce71730d-8dc0-4ba4-83f2-88a6a56d6851"
   },
   "outputs": [
    {
     "data": {
      "text/plain": [
       "(1252, 5, 1)"
      ]
     },
     "execution_count": 8,
     "metadata": {},
     "output_type": "execute_result"
    }
   ],
   "source": [
    "X_train, y_train, X_test = ts_train_test(all_data,5,2)\n",
    "X_train.shape"
   ]
  },
  {
   "cell_type": "code",
   "execution_count": 9,
   "metadata": {
    "colab": {
     "base_uri": "https://localhost:8080/"
    },
    "id": "1gzWAP99Djen",
    "outputId": "856de603-8582-430e-f7df-6e2cdce79af4"
   },
   "outputs": [
    {
     "name": "stderr",
     "output_type": "stream",
     "text": [
      "/usr/local/lib/python3.7/dist-packages/keras/optimizers/optimizer_v2/gradient_descent.py:108: UserWarning: The `lr` argument is deprecated, use `learning_rate` instead.\n",
      "  super(SGD, self).__init__(name, **kwargs)\n"
     ]
    }
   ],
   "source": [
    "model = Sequential()\n",
    "model.add(GRU(units=40, return_sequences=True, input_shape=(X_train.shape[1],1), activation='tanh'))\n",
    "model.add(GRU(units=30, activation='tanh'))\n",
    "model.add(Dense(units=2))\n",
    "\n",
    "model.compile(optimizer=SGD(lr=0.01, decay=1e-7, momentum=0.9, nesterov=False),loss='mean_squared_error')"
   ]
  },
  {
   "cell_type": "code",
   "execution_count": 10,
   "metadata": {
    "colab": {
     "base_uri": "https://localhost:8080/"
    },
    "id": "rQiSZ8WOHzRb",
    "outputId": "28c77de8-05da-451f-98a3-e85d3dfc80b2"
   },
   "outputs": [
    {
     "data": {
      "text/plain": [
       "<keras.engine.sequential.Sequential at 0x7f22c6c3dc90>"
      ]
     },
     "execution_count": 10,
     "metadata": {},
     "output_type": "execute_result"
    }
   ],
   "source": [
    "model"
   ]
  },
  {
   "cell_type": "code",
   "execution_count": 12,
   "metadata": {
    "colab": {
     "base_uri": "https://localhost:8080/"
    },
    "id": "evqZKbJYH2fQ",
    "outputId": "e5daa0a1-2f63-483a-b16e-0b486c696395"
   },
   "outputs": [
    {
     "data": {
      "text/plain": [
       "(1252, 5, 1)"
      ]
     },
     "execution_count": 12,
     "metadata": {},
     "output_type": "execute_result"
    }
   ],
   "source": [
    "X_train.shape"
   ]
  },
  {
   "cell_type": "code",
   "execution_count": 13,
   "metadata": {
    "colab": {
     "base_uri": "https://localhost:8080/"
    },
    "id": "02ff6L1rH2c2",
    "outputId": "df993129-7145-4cf5-ef65-d10bf80c954c"
   },
   "outputs": [
    {
     "data": {
      "text/plain": [
       "array([[20.05, 19.88],\n",
       "       [19.88, 19.55],\n",
       "       [19.55, 19.88],\n",
       "       ...,\n",
       "       [73.54, 73.08],\n",
       "       [73.08, 73.9 ],\n",
       "       [73.9 , 75.1 ]])"
      ]
     },
     "execution_count": 13,
     "metadata": {},
     "output_type": "execute_result"
    }
   ],
   "source": [
    "y_train"
   ]
  },
  {
   "cell_type": "code",
   "execution_count": 14,
   "metadata": {
    "colab": {
     "base_uri": "https://localhost:8080/"
    },
    "id": "-_K_CulwFCX5",
    "outputId": "0de3937d-d274-4c57-8181-63061ac03218"
   },
   "outputs": [
    {
     "name": "stdout",
     "output_type": "stream",
     "text": [
      "Epoch 1/20\n",
      "21/21 [==============================] - 4s 5ms/step - loss: 878.5734\n",
      "Epoch 2/20\n",
      "21/21 [==============================] - 0s 4ms/step - loss: 608.4713\n",
      "Epoch 3/20\n",
      "21/21 [==============================] - 0s 4ms/step - loss: 603.8295\n",
      "Epoch 4/20\n",
      "21/21 [==============================] - 0s 4ms/step - loss: 569.6635\n",
      "Epoch 5/20\n",
      "21/21 [==============================] - 0s 4ms/step - loss: 567.8776\n",
      "Epoch 6/20\n",
      "21/21 [==============================] - 0s 5ms/step - loss: 579.6353\n",
      "Epoch 7/20\n",
      "21/21 [==============================] - 0s 4ms/step - loss: 571.4412\n",
      "Epoch 8/20\n",
      "21/21 [==============================] - 0s 5ms/step - loss: 576.7543\n",
      "Epoch 9/20\n",
      "21/21 [==============================] - 0s 4ms/step - loss: 575.7128\n",
      "Epoch 10/20\n",
      "21/21 [==============================] - 0s 4ms/step - loss: 575.7487\n",
      "Epoch 11/20\n",
      "21/21 [==============================] - 0s 4ms/step - loss: 575.4788\n",
      "Epoch 12/20\n",
      "21/21 [==============================] - 0s 4ms/step - loss: 586.8168\n",
      "Epoch 13/20\n",
      "21/21 [==============================] - 0s 4ms/step - loss: 580.8453\n",
      "Epoch 14/20\n",
      "21/21 [==============================] - 0s 4ms/step - loss: 575.3406\n",
      "Epoch 15/20\n",
      "21/21 [==============================] - 0s 5ms/step - loss: 578.7015\n",
      "Epoch 16/20\n",
      "21/21 [==============================] - 0s 5ms/step - loss: 586.6900\n",
      "Epoch 17/20\n",
      "21/21 [==============================] - 0s 4ms/step - loss: 575.7630\n",
      "Epoch 18/20\n",
      "21/21 [==============================] - 0s 4ms/step - loss: 577.6294\n",
      "Epoch 19/20\n",
      "21/21 [==============================] - 0s 4ms/step - loss: 573.9537\n",
      "Epoch 20/20\n",
      "21/21 [==============================] - 0s 4ms/step - loss: 579.6841\n"
     ]
    },
    {
     "data": {
      "text/plain": [
       "<keras.callbacks.History at 0x7f2262406410>"
      ]
     },
     "execution_count": 14,
     "metadata": {},
     "output_type": "execute_result"
    }
   ],
   "source": [
    "model.fit(X_train,y_train,epochs=20, batch_size=60, verbose=1)"
   ]
  },
  {
   "cell_type": "code",
   "execution_count": 15,
   "metadata": {
    "colab": {
     "base_uri": "https://localhost:8080/"
    },
    "id": "J7AIrBSfIIKU",
    "outputId": "77d84546-6cde-40c5-b888-3d163471abf7"
   },
   "outputs": [
    {
     "data": {
      "text/plain": [
       "(249, 5, 1)"
      ]
     },
     "execution_count": 15,
     "metadata": {},
     "output_type": "execute_result"
    }
   ],
   "source": [
    "X_test.shape"
   ]
  },
  {
   "cell_type": "code",
   "execution_count": 16,
   "metadata": {
    "colab": {
     "base_uri": "https://localhost:8080/"
    },
    "id": "G5RqeVkbE9ZT",
    "outputId": "363534e2-11c1-41bd-b302-287bfec3fd5d"
   },
   "outputs": [
    {
     "name": "stdout",
     "output_type": "stream",
     "text": [
      "8/8 [==============================] - 1s 3ms/step\n"
     ]
    }
   ],
   "source": [
    "predictions = model.predict(X_test)"
   ]
  },
  {
   "cell_type": "code",
   "execution_count": 17,
   "metadata": {
    "colab": {
     "base_uri": "https://localhost:8080/"
    },
    "id": "FlWZsR5VFOmg",
    "outputId": "1dfea7a6-2a00-4c35-801f-39b6a4cb3c43"
   },
   "outputs": [
    {
     "data": {
      "text/plain": [
       "array([[67.2 ],\n",
       "       [73.54],\n",
       "       [73.08],\n",
       "       [73.9 ],\n",
       "       [75.1 ]])"
      ]
     },
     "execution_count": 17,
     "metadata": {},
     "output_type": "execute_result"
    }
   ],
   "source": [
    "X_test[0]"
   ]
  },
  {
   "cell_type": "code",
   "execution_count": null,
   "metadata": {
    "id": "UBZaIv3PIRLh"
   },
   "outputs": [],
   "source": [
    "predictions"
   ]
  },
  {
   "cell_type": "code",
   "execution_count": null,
   "metadata": {
    "id": "yn5zJYTzIUP4"
   },
   "outputs": [],
   "source": []
  }
 ],
 "metadata": {
  "accelerator": "GPU",
  "colab": {
   "provenance": []
  },
  "gpuClass": "standard",
  "kernelspec": {
   "display_name": "Python 3 (ipykernel)",
   "language": "python",
   "name": "python3"
  },
  "language_info": {
   "codemirror_mode": {
    "name": "ipython",
    "version": 3
   },
   "file_extension": ".py",
   "mimetype": "text/x-python",
   "name": "python",
   "nbconvert_exporter": "python",
   "pygments_lexer": "ipython3",
   "version": "3.7.0"
  }
 },
 "nbformat": 4,
 "nbformat_minor": 1
}
